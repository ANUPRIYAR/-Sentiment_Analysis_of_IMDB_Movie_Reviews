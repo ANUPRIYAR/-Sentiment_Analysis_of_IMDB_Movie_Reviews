{
  "nbformat": 4,
  "nbformat_minor": 0,
  "metadata": {
    "colab": {
      "name": "SimpleAttentionModel.ipynb",
      "provenance": [],
      "authorship_tag": "ABX9TyOkOVXTYQYvLOczg4EqbFat",
      "include_colab_link": true
    },
    "kernelspec": {
      "name": "python3",
      "display_name": "Python 3"
    }
  },
  "cells": [
    {
      "cell_type": "markdown",
      "metadata": {
        "id": "view-in-github",
        "colab_type": "text"
      },
      "source": [
        "<a href=\"https://colab.research.google.com/github/ANUPRIYAR/Sentiment_Analysis_of_IMDB_MovieReviews/blob/main/SimpleAttentionModel.ipynb\" target=\"_parent\"><img src=\"https://colab.research.google.com/assets/colab-badge.svg\" alt=\"Open In Colab\"/></a>"
      ]
    },
    {
      "cell_type": "code",
      "metadata": {
        "colab": {
          "base_uri": "https://localhost:8080/"
        },
        "id": "dOrnp1omcbgR",
        "outputId": "4458203d-ce32-44a3-fbf6-6a137c785344"
      },
      "source": [
        "!wget https://archive.ics.uci.edu/ml/machine-learning-databases/00331/sentiment%20labelled%20sentences.zip"
      ],
      "execution_count": 1,
      "outputs": [
        {
          "output_type": "stream",
          "text": [
            "--2021-01-19 07:01:25--  https://archive.ics.uci.edu/ml/machine-learning-databases/00331/sentiment%20labelled%20sentences.zip\n",
            "Resolving archive.ics.uci.edu (archive.ics.uci.edu)... 128.195.10.252\n",
            "Connecting to archive.ics.uci.edu (archive.ics.uci.edu)|128.195.10.252|:443... connected.\n",
            "HTTP request sent, awaiting response... 200 OK\n",
            "Length: 84188 (82K) [application/x-httpd-php]\n",
            "Saving to: ‘sentiment labelled sentences.zip’\n",
            "\n",
            "sentiment labelled  100%[===================>]  82.21K  --.-KB/s    in 0.1s    \n",
            "\n",
            "2021-01-19 07:01:26 (779 KB/s) - ‘sentiment labelled sentences.zip’ saved [84188/84188]\n",
            "\n"
          ],
          "name": "stdout"
        }
      ]
    },
    {
      "cell_type": "code",
      "metadata": {
        "colab": {
          "base_uri": "https://localhost:8080/"
        },
        "id": "l08nCJhBc4Ql",
        "outputId": "455cc15f-ed00-4989-a708-f305fbb2a1be"
      },
      "source": [
        "!unzip 'sentiment labelled sentences.zip'"
      ],
      "execution_count": 5,
      "outputs": [
        {
          "output_type": "stream",
          "text": [
            "Archive:  sentiment labelled sentences.zip\n",
            "   creating: sentiment labelled sentences/\n",
            "  inflating: sentiment labelled sentences/.DS_Store  \n",
            "   creating: __MACOSX/\n",
            "   creating: __MACOSX/sentiment labelled sentences/\n",
            "  inflating: __MACOSX/sentiment labelled sentences/._.DS_Store  \n",
            "  inflating: sentiment labelled sentences/amazon_cells_labelled.txt  \n",
            "  inflating: sentiment labelled sentences/imdb_labelled.txt  \n",
            "  inflating: __MACOSX/sentiment labelled sentences/._imdb_labelled.txt  \n",
            "  inflating: sentiment labelled sentences/readme.txt  \n",
            "  inflating: __MACOSX/sentiment labelled sentences/._readme.txt  \n",
            "  inflating: sentiment labelled sentences/yelp_labelled.txt  \n",
            "  inflating: __MACOSX/._sentiment labelled sentences  \n"
          ],
          "name": "stdout"
        }
      ]
    },
    {
      "cell_type": "code",
      "metadata": {
        "id": "6-oIGa1KcqG0"
      },
      "source": [
        "import pandas as pd\r\n",
        "import numpy as np\r\n",
        "\r\n",
        "from keras.preprocessing.text import Tokenizer \r\n",
        "from keras.preprocessing.sequence import pad_sequences\r\n",
        "from keras.layers import Input, Embedding, LSTM, Dense\r\n",
        "from keras.models import Model\r\n",
        "from sklearn.model_selection import train_test_split"
      ],
      "execution_count": 36,
      "outputs": []
    },
    {
      "cell_type": "code",
      "metadata": {
        "id": "igaMOMYDcxNq"
      },
      "source": [
        "df = pd.read_csv('/content/sentiment labelled sentences/amazon_cells_labelled.txt', delimiter='\\t', names=['sentence', 'label'])"
      ],
      "execution_count": 9,
      "outputs": []
    },
    {
      "cell_type": "code",
      "metadata": {
        "colab": {
          "base_uri": "https://localhost:8080/",
          "height": 106
        },
        "id": "FxPTKypuc2sb",
        "outputId": "e792426b-5940-407c-a29f-6a5cf50a4b88"
      },
      "source": [
        "df.head(2)"
      ],
      "execution_count": 10,
      "outputs": [
        {
          "output_type": "execute_result",
          "data": {
            "text/html": [
              "<div>\n",
              "<style scoped>\n",
              "    .dataframe tbody tr th:only-of-type {\n",
              "        vertical-align: middle;\n",
              "    }\n",
              "\n",
              "    .dataframe tbody tr th {\n",
              "        vertical-align: top;\n",
              "    }\n",
              "\n",
              "    .dataframe thead th {\n",
              "        text-align: right;\n",
              "    }\n",
              "</style>\n",
              "<table border=\"1\" class=\"dataframe\">\n",
              "  <thead>\n",
              "    <tr style=\"text-align: right;\">\n",
              "      <th></th>\n",
              "      <th>sentence</th>\n",
              "      <th>label</th>\n",
              "    </tr>\n",
              "  </thead>\n",
              "  <tbody>\n",
              "    <tr>\n",
              "      <th>0</th>\n",
              "      <td>So there is no way for me to plug it in here i...</td>\n",
              "      <td>0</td>\n",
              "    </tr>\n",
              "    <tr>\n",
              "      <th>1</th>\n",
              "      <td>Good case, Excellent value.</td>\n",
              "      <td>1</td>\n",
              "    </tr>\n",
              "  </tbody>\n",
              "</table>\n",
              "</div>"
            ],
            "text/plain": [
              "                                            sentence  label\n",
              "0  So there is no way for me to plug it in here i...      0\n",
              "1                        Good case, Excellent value.      1"
            ]
          },
          "metadata": {
            "tags": []
          },
          "execution_count": 10
        }
      ]
    },
    {
      "cell_type": "code",
      "metadata": {
        "id": "uey6xIRxgxWz"
      },
      "source": [
        "df['word_count'] = df['sentence'].apply(lambda x: len(x.split()))"
      ],
      "execution_count": 15,
      "outputs": []
    },
    {
      "cell_type": "code",
      "metadata": {
        "colab": {
          "base_uri": "https://localhost:8080/",
          "height": 106
        },
        "id": "8-GoTdK6hB9x",
        "outputId": "69f019a2-051a-49fa-b5bb-a8af645aee72"
      },
      "source": [
        "df.head(2)"
      ],
      "execution_count": 16,
      "outputs": [
        {
          "output_type": "execute_result",
          "data": {
            "text/html": [
              "<div>\n",
              "<style scoped>\n",
              "    .dataframe tbody tr th:only-of-type {\n",
              "        vertical-align: middle;\n",
              "    }\n",
              "\n",
              "    .dataframe tbody tr th {\n",
              "        vertical-align: top;\n",
              "    }\n",
              "\n",
              "    .dataframe thead th {\n",
              "        text-align: right;\n",
              "    }\n",
              "</style>\n",
              "<table border=\"1\" class=\"dataframe\">\n",
              "  <thead>\n",
              "    <tr style=\"text-align: right;\">\n",
              "      <th></th>\n",
              "      <th>sentence</th>\n",
              "      <th>label</th>\n",
              "      <th>word_count</th>\n",
              "    </tr>\n",
              "  </thead>\n",
              "  <tbody>\n",
              "    <tr>\n",
              "      <th>0</th>\n",
              "      <td>So there is no way for me to plug it in here i...</td>\n",
              "      <td>0</td>\n",
              "      <td>21</td>\n",
              "    </tr>\n",
              "    <tr>\n",
              "      <th>1</th>\n",
              "      <td>Good case, Excellent value.</td>\n",
              "      <td>1</td>\n",
              "      <td>4</td>\n",
              "    </tr>\n",
              "  </tbody>\n",
              "</table>\n",
              "</div>"
            ],
            "text/plain": [
              "                                            sentence  label  word_count\n",
              "0  So there is no way for me to plug it in here i...      0          21\n",
              "1                        Good case, Excellent value.      1           4"
            ]
          },
          "metadata": {
            "tags": []
          },
          "execution_count": 16
        }
      ]
    },
    {
      "cell_type": "code",
      "metadata": {
        "colab": {
          "base_uri": "https://localhost:8080/"
        },
        "id": "tN1xxlJqhFuq",
        "outputId": "273741ce-4d09-4e47-b456-2d90ad8094a2"
      },
      "source": [
        "maxlen = np.max(df['word_count'])\r\n",
        "maxlen"
      ],
      "execution_count": 21,
      "outputs": [
        {
          "output_type": "execute_result",
          "data": {
            "text/plain": [
              "30"
            ]
          },
          "metadata": {
            "tags": []
          },
          "execution_count": 21
        }
      ]
    },
    {
      "cell_type": "markdown",
      "metadata": {
        "id": "W9xGSdOyiCN1"
      },
      "source": [
        "# **vocab_size**"
      ]
    },
    {
      "cell_type": "code",
      "metadata": {
        "colab": {
          "base_uri": "https://localhost:8080/"
        },
        "id": "MMbHYqc3fggo",
        "outputId": "a7ae0132-b2c2-425c-9648-a1f910c8d45f"
      },
      "source": [
        "words = set()\r\n",
        "for sent in df['sentence']:\r\n",
        "  for word in sent.split():\r\n",
        "    words.add(word)\r\n",
        "len(words)    "
      ],
      "execution_count": 23,
      "outputs": [
        {
          "output_type": "execute_result",
          "data": {
            "text/plain": [
              "2815"
            ]
          },
          "metadata": {
            "tags": []
          },
          "execution_count": 23
        }
      ]
    },
    {
      "cell_type": "code",
      "metadata": {
        "id": "jHUocW2vhpcB"
      },
      "source": [
        "vocab_size = len(words)"
      ],
      "execution_count": 24,
      "outputs": []
    },
    {
      "cell_type": "markdown",
      "metadata": {
        "id": "VDGGLKomh-Du"
      },
      "source": [
        "# **Preprocessing**"
      ]
    },
    {
      "cell_type": "code",
      "metadata": {
        "id": "1_ARiW4JdU8f"
      },
      "source": [
        "# Tokenize, convert to sequences and padding and calculate maximum length of sentence\r\n",
        "sentences = df['sentence'].values\r\n",
        "tokenizer = Tokenizer()\r\n",
        "tokenizer.fit_on_texts(sentences)\r\n",
        "seq = tokenizer.texts_to_sequences(sentences)\r\n",
        "padded = pad_sequences(seq, maxlen=maxlen, padding='post')"
      ],
      "execution_count": 22,
      "outputs": []
    },
    {
      "cell_type": "code",
      "metadata": {
        "id": "6_qaHV3v04bD"
      },
      "source": [
        "x= padded\r\n",
        "y = df['label'].values"
      ],
      "execution_count": 37,
      "outputs": []
    },
    {
      "cell_type": "code",
      "metadata": {
        "colab": {
          "base_uri": "https://localhost:8080/"
        },
        "id": "bDt_P57P1akh",
        "outputId": "8a01e2f0-37e8-496d-dd2c-9facb0ef0202"
      },
      "source": [
        "x_train, x_test, y_train, y_test = train_test_split(x,y, test_size=0.3)\r\n",
        "x_train.shape, y_train.shape, x_test.shape, y_test.shape"
      ],
      "execution_count": 39,
      "outputs": [
        {
          "output_type": "execute_result",
          "data": {
            "text/plain": [
              "((700, 30), (700,), (300, 30), (300,))"
            ]
          },
          "metadata": {
            "tags": []
          },
          "execution_count": 39
        }
      ]
    },
    {
      "cell_type": "markdown",
      "metadata": {
        "id": "_Om8VMMaiI8R"
      },
      "source": [
        "# **Now Let's define basic LSTM model**"
      ]
    },
    {
      "cell_type": "code",
      "metadata": {
        "colab": {
          "base_uri": "https://localhost:8080/"
        },
        "id": "5M0aM2scev3Y",
        "outputId": "d4dfc690-9522-4b08-ba68-178c89dc7d21"
      },
      "source": [
        "padded.shape"
      ],
      "execution_count": 25,
      "outputs": [
        {
          "output_type": "execute_result",
          "data": {
            "text/plain": [
              "(1000, 30)"
            ]
          },
          "metadata": {
            "tags": []
          },
          "execution_count": 25
        }
      ]
    },
    {
      "cell_type": "code",
      "metadata": {
        "id": "E4PSHH0rfUy-"
      },
      "source": [
        "features = padded.shape[1]"
      ],
      "execution_count": 26,
      "outputs": []
    },
    {
      "cell_type": "code",
      "metadata": {
        "id": "-mh4jUUSnUmo"
      },
      "source": [
        "inputs1 = Input(shape=features,)\r\n",
        "x1 = Embedding(input_dim=vocab_size+1, output_dim=maxlen, input_length=features)(inputs1)\r\n",
        "x2 = LSTM(100, dropout=0.3)(x1)\r\n",
        "output1 = Dense(1, activation='sigmoid')(x2)\r\n",
        "model1 = Model(inputs1,output1)"
      ],
      "execution_count": 33,
      "outputs": []
    },
    {
      "cell_type": "code",
      "metadata": {
        "id": "sS4yZHt8p-WJ"
      },
      "source": [
        "model1.compile(optimizer='adam', loss='binary_crossentropy', metrics=['acc'])"
      ],
      "execution_count": 34,
      "outputs": []
    },
    {
      "cell_type": "code",
      "metadata": {
        "colab": {
          "base_uri": "https://localhost:8080/"
        },
        "id": "S6_rMi7KzWIP",
        "outputId": "e0ae6a2d-59a0-4b4c-a681-5bf9af913774"
      },
      "source": [
        "model1.summary()"
      ],
      "execution_count": 35,
      "outputs": [
        {
          "output_type": "stream",
          "text": [
            "Model: \"model_1\"\n",
            "_________________________________________________________________\n",
            "Layer (type)                 Output Shape              Param #   \n",
            "=================================================================\n",
            "input_3 (InputLayer)         [(None, 30)]              0         \n",
            "_________________________________________________________________\n",
            "embedding_2 (Embedding)      (None, 30, 30)            84480     \n",
            "_________________________________________________________________\n",
            "lstm_2 (LSTM)                (None, 100)               52400     \n",
            "_________________________________________________________________\n",
            "dense_1 (Dense)              (None, 1)                 101       \n",
            "=================================================================\n",
            "Total params: 136,981\n",
            "Trainable params: 136,981\n",
            "Non-trainable params: 0\n",
            "_________________________________________________________________\n"
          ],
          "name": "stdout"
        }
      ]
    },
    {
      "cell_type": "code",
      "metadata": {
        "colab": {
          "base_uri": "https://localhost:8080/"
        },
        "id": "2TLr5BLL0tJV",
        "outputId": "bed18e9d-248f-4326-8535-0d4dbc9e1b2d"
      },
      "source": [
        "model1.fit(x,y, validation_split=0.2, batch_size=64, epochs=10)"
      ],
      "execution_count": 40,
      "outputs": [
        {
          "output_type": "stream",
          "text": [
            "Epoch 1/10\n",
            "13/13 [==============================] - 3s 87ms/step - loss: 0.6933 - acc: 0.5062 - val_loss: 0.6965 - val_acc: 0.4550\n",
            "Epoch 2/10\n",
            "13/13 [==============================] - 1s 45ms/step - loss: 0.6931 - acc: 0.5145 - val_loss: 0.6949 - val_acc: 0.4550\n",
            "Epoch 3/10\n",
            "13/13 [==============================] - 1s 44ms/step - loss: 0.6907 - acc: 0.5467 - val_loss: 0.6817 - val_acc: 0.5450\n",
            "Epoch 4/10\n",
            "13/13 [==============================] - 1s 45ms/step - loss: 0.5682 - acc: 0.7216 - val_loss: 0.5161 - val_acc: 0.7700\n",
            "Epoch 5/10\n",
            "13/13 [==============================] - 1s 45ms/step - loss: 0.2988 - acc: 0.8918 - val_loss: 0.5481 - val_acc: 0.7750\n",
            "Epoch 6/10\n",
            "13/13 [==============================] - 1s 45ms/step - loss: 0.1804 - acc: 0.9430 - val_loss: 0.4396 - val_acc: 0.7850\n",
            "Epoch 7/10\n",
            "13/13 [==============================] - 1s 46ms/step - loss: 0.1035 - acc: 0.9716 - val_loss: 0.7851 - val_acc: 0.7850\n",
            "Epoch 8/10\n",
            "13/13 [==============================] - 1s 46ms/step - loss: 0.0807 - acc: 0.9754 - val_loss: 0.5041 - val_acc: 0.7700\n",
            "Epoch 9/10\n",
            "13/13 [==============================] - 1s 56ms/step - loss: 0.0426 - acc: 0.9977 - val_loss: 0.8621 - val_acc: 0.7850\n",
            "Epoch 10/10\n",
            "13/13 [==============================] - 1s 45ms/step - loss: 0.0211 - acc: 0.9950 - val_loss: 0.6620 - val_acc: 0.7900\n"
          ],
          "name": "stdout"
        },
        {
          "output_type": "execute_result",
          "data": {
            "text/plain": [
              "<tensorflow.python.keras.callbacks.History at 0x7f5838f5e6a0>"
            ]
          },
          "metadata": {
            "tags": []
          },
          "execution_count": 40
        }
      ]
    },
    {
      "cell_type": "code",
      "metadata": {
        "id": "orCn-ftT2UXC"
      },
      "source": [
        "inputs2 = Input(shape=features)\r\n",
        "x1 = Embedding(input_dim=vocab_size+1, output_dim=maxlen, input_length=features)(inputs2)\r\n",
        "x2 = LSTM(100, dropout=0.3, return_sequences=True)(x1)\r\n",
        "output2 = Dense(1, activation='sigmoid', trainable=True)(x2)\r\n",
        "model2 = Model(inputs2,output2)"
      ],
      "execution_count": 47,
      "outputs": []
    },
    {
      "cell_type": "code",
      "metadata": {
        "colab": {
          "base_uri": "https://localhost:8080/"
        },
        "id": "hL4GuRbb4MIp",
        "outputId": "1a307d21-655c-4629-a881-99a3b2d1e7aa"
      },
      "source": [
        "model2.summary()"
      ],
      "execution_count": 48,
      "outputs": [
        {
          "output_type": "stream",
          "text": [
            "Model: \"model_5\"\n",
            "_________________________________________________________________\n",
            "Layer (type)                 Output Shape              Param #   \n",
            "=================================================================\n",
            "input_7 (InputLayer)         [(None, 30)]              0         \n",
            "_________________________________________________________________\n",
            "embedding_6 (Embedding)      (None, 30, 30)            84480     \n",
            "_________________________________________________________________\n",
            "lstm_6 (LSTM)                (None, 30, 100)           52400     \n",
            "_________________________________________________________________\n",
            "dense_5 (Dense)              (None, 30, 1)             101       \n",
            "=================================================================\n",
            "Total params: 136,981\n",
            "Trainable params: 136,981\n",
            "Non-trainable params: 0\n",
            "_________________________________________________________________\n"
          ],
          "name": "stdout"
        }
      ]
    },
    {
      "cell_type": "code",
      "metadata": {
        "colab": {
          "base_uri": "https://localhost:8080/"
        },
        "id": "Je2K-bcq4sCa",
        "outputId": "dfea165d-b00f-4dfb-c99b-5a82f22cf124"
      },
      "source": [
        "model2.compile(loss='binary_crossentropy', optimizer='adam', metrics=['acc'])\r\n",
        "model2.fit(x, y,batch_size=100,epochs=10,verbose=1,shuffle=True,validation_split=0.2)"
      ],
      "execution_count": 46,
      "outputs": [
        {
          "output_type": "stream",
          "text": [
            "Epoch 1/10\n",
            "8/8 [==============================] - 3s 132ms/step - loss: 0.6932 - acc: 0.4811 - val_loss: 0.6964 - val_acc: 0.4603\n",
            "Epoch 2/10\n",
            "8/8 [==============================] - 1s 69ms/step - loss: 0.6910 - acc: 0.5350 - val_loss: 0.6996 - val_acc: 0.4630\n",
            "Epoch 3/10\n",
            "8/8 [==============================] - 1s 68ms/step - loss: 0.6894 - acc: 0.5648 - val_loss: 0.6921 - val_acc: 0.5362\n",
            "Epoch 4/10\n",
            "8/8 [==============================] - 1s 67ms/step - loss: 0.6745 - acc: 0.6628 - val_loss: 0.6466 - val_acc: 0.6752\n",
            "Epoch 5/10\n",
            "8/8 [==============================] - 1s 66ms/step - loss: 0.5436 - acc: 0.8079 - val_loss: 0.6284 - val_acc: 0.7433\n",
            "Epoch 6/10\n",
            "8/8 [==============================] - 1s 66ms/step - loss: 0.4215 - acc: 0.8714 - val_loss: 0.5631 - val_acc: 0.7627\n",
            "Epoch 7/10\n",
            "8/8 [==============================] - 1s 66ms/step - loss: 0.3635 - acc: 0.9157 - val_loss: 0.6307 - val_acc: 0.7615\n",
            "Epoch 8/10\n",
            "8/8 [==============================] - 1s 68ms/step - loss: 0.2881 - acc: 0.9342 - val_loss: 0.6687 - val_acc: 0.7712\n",
            "Epoch 9/10\n",
            "8/8 [==============================] - 1s 68ms/step - loss: 0.2372 - acc: 0.9534 - val_loss: 0.7059 - val_acc: 0.7688\n",
            "Epoch 10/10\n",
            "8/8 [==============================] - 1s 66ms/step - loss: 0.2166 - acc: 0.9563 - val_loss: 0.6750 - val_acc: 0.7610\n"
          ],
          "name": "stdout"
        },
        {
          "output_type": "execute_result",
          "data": {
            "text/plain": [
              "<tensorflow.python.keras.callbacks.History at 0x7f58351746a0>"
            ]
          },
          "metadata": {
            "tags": []
          },
          "execution_count": 46
        }
      ]
    },
    {
      "cell_type": "code",
      "metadata": {
        "id": "fcTl74iO42Fo"
      },
      "source": [
        ""
      ],
      "execution_count": null,
      "outputs": []
    }
  ]
}